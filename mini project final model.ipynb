{
 "cells": [
  {
   "cell_type": "code",
   "execution_count": 3,
   "id": "e87e925b",
   "metadata": {},
   "outputs": [],
   "source": [
    "import pandas as pd\n",
    "from sklearn import svm\n",
    "from sklearn.model_selection import train_test_split\n",
    "from sklearn.preprocessing import StandardScaler\n",
    "from sklearn.ensemble import RandomForestClassifier\n"
   ]
  },
  {
   "cell_type": "code",
   "execution_count": 4,
   "id": "e49a7639",
   "metadata": {},
   "outputs": [],
   "source": [
    "df = pd.read_csv(\"D:/final-csv-files.csv\")"
   ]
  },
  {
   "cell_type": "code",
   "execution_count": 5,
   "id": "bb73c00e",
   "metadata": {},
   "outputs": [
    {
     "data": {
      "text/html": [
       "<div>\n",
       "<style scoped>\n",
       "    .dataframe tbody tr th:only-of-type {\n",
       "        vertical-align: middle;\n",
       "    }\n",
       "\n",
       "    .dataframe tbody tr th {\n",
       "        vertical-align: top;\n",
       "    }\n",
       "\n",
       "    .dataframe thead th {\n",
       "        text-align: right;\n",
       "    }\n",
       "</style>\n",
       "<table border=\"1\" class=\"dataframe\">\n",
       "  <thead>\n",
       "    <tr style=\"text-align: right;\">\n",
       "      <th></th>\n",
       "      <th>Image</th>\n",
       "      <th>Predicted Class_age</th>\n",
       "      <th>Probability_age</th>\n",
       "      <th>Emotion_class</th>\n",
       "      <th>Emotion_Probability</th>\n",
       "      <th>Predicted Class_gender</th>\n",
       "      <th>Probability_gender</th>\n",
       "      <th>Trafficking</th>\n",
       "    </tr>\n",
       "  </thead>\n",
       "  <tbody>\n",
       "    <tr>\n",
       "      <th>0</th>\n",
       "      <td>18</td>\n",
       "      <td>3</td>\n",
       "      <td>0.599295</td>\n",
       "      <td>2</td>\n",
       "      <td>0.530614</td>\n",
       "      <td>1</td>\n",
       "      <td>0.999899</td>\n",
       "      <td>0</td>\n",
       "    </tr>\n",
       "    <tr>\n",
       "      <th>1</th>\n",
       "      <td>108</td>\n",
       "      <td>0</td>\n",
       "      <td>0.781809</td>\n",
       "      <td>4</td>\n",
       "      <td>0.344012</td>\n",
       "      <td>0</td>\n",
       "      <td>0.781662</td>\n",
       "      <td>0</td>\n",
       "    </tr>\n",
       "    <tr>\n",
       "      <th>2</th>\n",
       "      <td>1008</td>\n",
       "      <td>0</td>\n",
       "      <td>0.739945</td>\n",
       "      <td>4</td>\n",
       "      <td>0.340412</td>\n",
       "      <td>0</td>\n",
       "      <td>1.000000</td>\n",
       "      <td>0</td>\n",
       "    </tr>\n",
       "    <tr>\n",
       "      <th>3</th>\n",
       "      <td>1018</td>\n",
       "      <td>3</td>\n",
       "      <td>0.763107</td>\n",
       "      <td>3</td>\n",
       "      <td>0.514215</td>\n",
       "      <td>1</td>\n",
       "      <td>0.747440</td>\n",
       "      <td>0</td>\n",
       "    </tr>\n",
       "    <tr>\n",
       "      <th>4</th>\n",
       "      <td>1028</td>\n",
       "      <td>0</td>\n",
       "      <td>0.739945</td>\n",
       "      <td>4</td>\n",
       "      <td>0.340412</td>\n",
       "      <td>0</td>\n",
       "      <td>1.000000</td>\n",
       "      <td>0</td>\n",
       "    </tr>\n",
       "    <tr>\n",
       "      <th>...</th>\n",
       "      <td>...</td>\n",
       "      <td>...</td>\n",
       "      <td>...</td>\n",
       "      <td>...</td>\n",
       "      <td>...</td>\n",
       "      <td>...</td>\n",
       "      <td>...</td>\n",
       "      <td>...</td>\n",
       "    </tr>\n",
       "    <tr>\n",
       "      <th>1449</th>\n",
       "      <td>1958</td>\n",
       "      <td>3</td>\n",
       "      <td>0.886197</td>\n",
       "      <td>4</td>\n",
       "      <td>0.814770</td>\n",
       "      <td>1</td>\n",
       "      <td>0.891614</td>\n",
       "      <td>1</td>\n",
       "    </tr>\n",
       "    <tr>\n",
       "      <th>1450</th>\n",
       "      <td>1968</td>\n",
       "      <td>3</td>\n",
       "      <td>0.911301</td>\n",
       "      <td>2</td>\n",
       "      <td>0.379420</td>\n",
       "      <td>0</td>\n",
       "      <td>0.942016</td>\n",
       "      <td>1</td>\n",
       "    </tr>\n",
       "    <tr>\n",
       "      <th>1451</th>\n",
       "      <td>1978</td>\n",
       "      <td>3</td>\n",
       "      <td>0.963707</td>\n",
       "      <td>2</td>\n",
       "      <td>0.739500</td>\n",
       "      <td>0</td>\n",
       "      <td>0.962885</td>\n",
       "      <td>1</td>\n",
       "    </tr>\n",
       "    <tr>\n",
       "      <th>1452</th>\n",
       "      <td>1988</td>\n",
       "      <td>1</td>\n",
       "      <td>0.751266</td>\n",
       "      <td>4</td>\n",
       "      <td>0.930970</td>\n",
       "      <td>1</td>\n",
       "      <td>0.902773</td>\n",
       "      <td>1</td>\n",
       "    </tr>\n",
       "    <tr>\n",
       "      <th>1453</th>\n",
       "      <td>1998</td>\n",
       "      <td>1</td>\n",
       "      <td>0.929006</td>\n",
       "      <td>4</td>\n",
       "      <td>0.641983</td>\n",
       "      <td>1</td>\n",
       "      <td>0.998697</td>\n",
       "      <td>1</td>\n",
       "    </tr>\n",
       "  </tbody>\n",
       "</table>\n",
       "<p>1454 rows × 8 columns</p>\n",
       "</div>"
      ],
      "text/plain": [
       "      Image  Predicted Class_age  Probability_age  Emotion_class  \\\n",
       "0        18                    3         0.599295              2   \n",
       "1       108                    0         0.781809              4   \n",
       "2      1008                    0         0.739945              4   \n",
       "3      1018                    3         0.763107              3   \n",
       "4      1028                    0         0.739945              4   \n",
       "...     ...                  ...              ...            ...   \n",
       "1449   1958                    3         0.886197              4   \n",
       "1450   1968                    3         0.911301              2   \n",
       "1451   1978                    3         0.963707              2   \n",
       "1452   1988                    1         0.751266              4   \n",
       "1453   1998                    1         0.929006              4   \n",
       "\n",
       "      Emotion_Probability  Predicted Class_gender   Probability_gender  \\\n",
       "0                0.530614                        1            0.999899   \n",
       "1                0.344012                        0            0.781662   \n",
       "2                0.340412                        0            1.000000   \n",
       "3                0.514215                        1            0.747440   \n",
       "4                0.340412                        0            1.000000   \n",
       "...                   ...                      ...                 ...   \n",
       "1449             0.814770                        1            0.891614   \n",
       "1450             0.379420                        0            0.942016   \n",
       "1451             0.739500                        0            0.962885   \n",
       "1452             0.930970                        1            0.902773   \n",
       "1453             0.641983                        1            0.998697   \n",
       "\n",
       "      Trafficking  \n",
       "0               0  \n",
       "1               0  \n",
       "2               0  \n",
       "3               0  \n",
       "4               0  \n",
       "...           ...  \n",
       "1449            1  \n",
       "1450            1  \n",
       "1451            1  \n",
       "1452            1  \n",
       "1453            1  \n",
       "\n",
       "[1454 rows x 8 columns]"
      ]
     },
     "execution_count": 5,
     "metadata": {},
     "output_type": "execute_result"
    }
   ],
   "source": [
    "df"
   ]
  },
  {
   "cell_type": "code",
   "execution_count": 6,
   "id": "1565fd12",
   "metadata": {},
   "outputs": [],
   "source": [
    "X = df.drop(['Trafficking'], axis=1)\n",
    "\n",
    "y = df['Trafficking']"
   ]
  },
  {
   "cell_type": "code",
   "execution_count": 7,
   "id": "193e84ca",
   "metadata": {},
   "outputs": [],
   "source": [
    "from sklearn.model_selection import train_test_split\n",
    "\n",
    "X_train, X_test, y_train, y_test = train_test_split(X, y, test_size = 0.25, random_state = 0)"
   ]
  },
  {
   "cell_type": "code",
   "execution_count": 8,
   "id": "d35fd2aa",
   "metadata": {},
   "outputs": [
    {
     "data": {
      "text/plain": [
       "1090"
      ]
     },
     "execution_count": 8,
     "metadata": {},
     "output_type": "execute_result"
    }
   ],
   "source": [
    "len(X_train)"
   ]
  },
  {
   "cell_type": "code",
   "execution_count": 9,
   "id": "f43aba10",
   "metadata": {},
   "outputs": [
    {
     "data": {
      "text/plain": [
       "364"
      ]
     },
     "execution_count": 9,
     "metadata": {},
     "output_type": "execute_result"
    }
   ],
   "source": [
    "len(X_test)"
   ]
  },
  {
   "cell_type": "code",
   "execution_count": 10,
   "id": "d7608902",
   "metadata": {},
   "outputs": [],
   "source": [
    "# Scale the features using StandardScaler\n",
    "scaler = StandardScaler()\n",
    "X_train = scaler.fit_transform(X_train)\n",
    "X_test = scaler.transform(X_test)"
   ]
  },
  {
   "cell_type": "code",
   "execution_count": 11,
   "id": "f28de504",
   "metadata": {},
   "outputs": [],
   "source": [
    "#SVM\n",
    "from sklearn.svm import SVC\n",
    "model = svm.SVC()"
   ]
  },
  {
   "cell_type": "code",
   "execution_count": 12,
   "id": "0a06b05d",
   "metadata": {},
   "outputs": [
    {
     "data": {
      "text/plain": [
       "SVC()"
      ]
     },
     "execution_count": 12,
     "metadata": {},
     "output_type": "execute_result"
    }
   ],
   "source": [
    "model.fit(X_train, y_train)"
   ]
  },
  {
   "cell_type": "code",
   "execution_count": 13,
   "id": "e86d0f41",
   "metadata": {},
   "outputs": [],
   "source": [
    "y_pred = model.predict(X_test)"
   ]
  },
  {
   "cell_type": "code",
   "execution_count": 14,
   "id": "8699fa66",
   "metadata": {},
   "outputs": [
    {
     "name": "stdout",
     "output_type": "stream",
     "text": [
      "Accuracy: 0.9313186813186813\n"
     ]
    }
   ],
   "source": [
    "# Evaluate the model\n",
    "accuracy = model.score(X_test, y_test)\n",
    "print(\"Accuracy:\", accuracy)"
   ]
  },
  {
   "cell_type": "code",
   "execution_count": 15,
   "id": "bf17ea60",
   "metadata": {},
   "outputs": [],
   "source": [
    "from sklearn.metrics import accuracy_score, confusion_matrix, ConfusionMatrixDisplay, precision_score, recall_score, f1_score"
   ]
  },
  {
   "cell_type": "code",
   "execution_count": 20,
   "id": "2fe9ffe6",
   "metadata": {},
   "outputs": [],
   "source": [
    "models = []\n",
    "from sklearn.linear_model import LogisticRegression\n",
    "logistic_regression_model = LogisticRegression(random_state=0)\n",
    "from sklearn.linear_model import LogisticRegression\n",
    "logistic_regression_model = LogisticRegression(random_state=0)\n",
    "from sklearn.neighbors import KNeighborsClassifier\n",
    "knn_model = KNeighborsClassifier()\n",
    "from sklearn.naive_bayes import GaussianNB\n",
    "naive_bayes_model = GaussianNB()\n",
    "from sklearn.ensemble import RandomForestClassifier\n",
    "random_forest_model = RandomForestClassifier(random_state=0)\n",
    "\n",
    "\n",
    "\n"
   ]
  },
  {
   "cell_type": "code",
   "execution_count": 21,
   "id": "add0d3ac",
   "metadata": {},
   "outputs": [],
   "source": [
    "from sklearn.metrics import classification_report, auc, precision_recall_curve, average_precision_score, cohen_kappa_score \n",
    "from sklearn.model_selection import cross_val_score\n",
    "\n",
    "models.append(['SVM',SVC(random_state=0, probability=True)])\n",
    "models.append(['Logistic Regression', logistic_regression_model])\n",
    "models.append(['KNN', knn_model])\n",
    "models.append(['Naive Bayes', naive_bayes_model])\n",
    "models.append(['Random Forest', random_forest_model])\n",
    "\n",
    "\n",
    "\n"
   ]
  },
  {
   "cell_type": "code",
   "execution_count": 22,
   "id": "d9b1f2b5",
   "metadata": {},
   "outputs": [],
   "source": [
    "def run_models(X_train, y_train, X_test, y_test, models, kcv):\n",
    "\n",
    "    lst_1 = []\n",
    "    \n",
    "    for i in range(len(models)):\n",
    "    \n",
    "        lst_2 = []\n",
    "        name = models[i][0]\n",
    "        clf = models[i][1]\n",
    "        clf.fit(X_train, y_train)\n",
    "        y_pred = clf.predict(X_test)\n",
    "    \n",
    "        cv_score = cross_val_score(clf, X_train, y_train, cv=kcv)\n",
    "        #kfold_accuracy_scores.append(cv_scores.mean())\n",
    "\n",
    "\n",
    "        # Calculate evaluation metrics\n",
    "        conf_matrix = confusion_matrix(y_test, y_pred)\n",
    "        acc_score = accuracy_score(y_test, y_pred)\n",
    "        precision = precision_score(y_test, y_pred, average='weighted')\n",
    "        recall = recall_score(y_test, y_pred, average='weighted')\n",
    "        f1 = f1_score(y_test, y_pred, average='weighted')\n",
    "        cohen_score = cohen_kappa_score(y_test, y_pred)\n",
    "        \n",
    "        # for Confusion Matrix\n",
    "        plt.figure(figsize=(7,5))\n",
    "        sns.heatmap(conf_matrix, annot=True, fmt='d', cmap='Blues')\n",
    "        plt.title(name)\n",
    "        plt.xlabel('Predict')\n",
    "        plt.ylabel('Truth')\n",
    "        plt.show()\n",
    "        \n",
    "        \n",
    "        print(\"Classifier: \", models[i][0])\n",
    "        print('')\n",
    "        print(\"Confusion Matrix:\\n\", conf_matrix)\n",
    "        print('')\n",
    "        print(\"Accuracy Score: \", acc_score)\n",
    "        print(\"Precision Score: \", precision)\n",
    "        print(\"Recall Score: \", recall)\n",
    "        print(\"F1 Score: \", f1)\n",
    "        print(\"Cohen Score: \", cohen_score)\n",
    "        print(\"K-Fold Accuracy Score: %.2f%%\" % (np.mean(cv_score) * 100))\n",
    "        print('')\n",
    "        print(\"Classification Report:\\n\", classification_report(y_test, models[i][1].predict(X_test)))\n",
    "        print(\"\\n\")\n",
    "        \n",
    "        lst_2.append(name)\n",
    "        lst_2.append(acc_score*100)\n",
    "        lst_2.append(cv_score.mean()*100)\n",
    "        lst_2.append(cv_score.std()*100)\n",
    "        lst_2.append(precision)\n",
    "        lst_2.append(recall)\n",
    "        lst_2.append(f1)\n",
    "        lst_2.append(cohen_score)\n",
    "        lst_1.append(lst_2)\n",
    "        \n",
    "    df1 = pd.DataFrame(lst_1, columns=['Model','Accuracy','K-Fold Mean Accuracy','Std.Deviation','Precision','Recall','F1 Score', 'Cohen-Kappa Score'])\n",
    "    df1.sort_values(by=['Accuracy', 'K-Fold Mean Accuracy'],inplace=True,ascending=False)\n",
    "\n",
    "    return df1"
   ]
  },
  {
   "cell_type": "code",
   "execution_count": 23,
   "id": "a2ebaa2a",
   "metadata": {},
   "outputs": [
    {
     "data": {
      "image/png": "[encoded data removed]",
      "text/plain": [
       "<Figure size 504x360 with 2 Axes>"
      ]
     },
     "metadata": {
      "needs_background": "light"
     },
     "output_type": "display_data"
    },
    {
     "name": "stdout",
     "output_type": "stream",
     "text": [
      "Classifier:  SVM\n",
      "\n",
      "Confusion Matrix:\n",
      " [[180   0]\n",
      " [ 25 159]]\n",
      "\n",
      "Accuracy Score:  0.9313186813186813\n",
      "Precision Score:  0.9396944518895739\n",
      "Recall Score:  0.9313186813186813\n",
      "F1 Score:  0.9310456307540855\n",
      "Cohen Score:  0.8628278564968345\n",
      "K-Fold Accuracy Score: 92.84%\n",
      "\n",
      "Classification Report:\n",
      "               precision    recall  f1-score   support\n",
      "\n",
      "           0       0.88      1.00      0.94       180\n",
      "           1       1.00      0.86      0.93       184\n",
      "\n",
      "    accuracy                           0.93       364\n",
      "   macro avg       0.94      0.93      0.93       364\n",
      "weighted avg       0.94      0.93      0.93       364\n",
      "\n",
      "\n",
      "\n"
     ]
    },
    {
     "data": {
      "image/png": "[encoded data removed]",
      "text/plain": [
       "<Figure size 504x360 with 2 Axes>"
      ]
     },
     "metadata": {
      "needs_background": "light"
     },
     "output_type": "display_data"
    },
    {
     "name": "stdout",
     "output_type": "stream",
     "text": [
      "Classifier:  Logistic Regression\n",
      "\n",
      "Confusion Matrix:\n",
      " [[174   6]\n",
      " [ 25 159]]\n",
      "\n",
      "Accuracy Score:  0.9148351648351648\n",
      "Precision Score:  0.9194945757759828\n",
      "Recall Score:  0.9148351648351648\n",
      "F1 Score:  0.9146516629487197\n",
      "Cohen Score:  0.8298449846190965\n",
      "K-Fold Accuracy Score: 91.19%\n",
      "\n",
      "Classification Report:\n",
      "               precision    recall  f1-score   support\n",
      "\n",
      "           0       0.87      0.97      0.92       180\n",
      "           1       0.96      0.86      0.91       184\n",
      "\n",
      "    accuracy                           0.91       364\n",
      "   macro avg       0.92      0.92      0.91       364\n",
      "weighted avg       0.92      0.91      0.91       364\n",
      "\n",
      "\n",
      "\n"
     ]
    },
    {
     "data": {
      "image/png": "[encoded data removed]",
      "text/plain": [
       "<Figure size 504x360 with 2 Axes>"
      ]
     },
     "metadata": {
      "needs_background": "light"
     },
     "output_type": "display_data"
    },
    {
     "name": "stdout",
     "output_type": "stream",
     "text": [
      "Classifier:  KNN\n",
      "\n",
      "Confusion Matrix:\n",
      " [[178   2]\n",
      " [ 25 159]]\n",
      "\n",
      "Accuracy Score:  0.9258241758241759\n",
      "Precision Score:  0.9328208737075733\n",
      "Recall Score:  0.9258241758241759\n",
      "F1 Score:  0.925578859782515\n",
      "Cohen Score:  0.8518362178134233\n",
      "K-Fold Accuracy Score: 91.01%\n",
      "\n",
      "Classification Report:\n",
      "               precision    recall  f1-score   support\n",
      "\n",
      "           0       0.88      0.99      0.93       180\n",
      "           1       0.99      0.86      0.92       184\n",
      "\n",
      "    accuracy                           0.93       364\n",
      "   macro avg       0.93      0.93      0.93       364\n",
      "weighted avg       0.93      0.93      0.93       364\n",
      "\n",
      "\n",
      "\n"
     ]
    },
    {
     "data": {
      "image/png": "[encoded data removed]",
      "text/plain": [
       "<Figure size 504x360 with 2 Axes>"
      ]
     },
     "metadata": {
      "needs_background": "light"
     },
     "output_type": "display_data"
    },
    {
     "name": "stdout",
     "output_type": "stream",
     "text": [
      "Classifier:  Naive Bayes\n",
      "\n",
      "Confusion Matrix:\n",
      " [[174   6]\n",
      " [ 24 160]]\n",
      "\n",
      "Accuracy Score:  0.9175824175824175\n",
      "Precision Score:  0.9217890543191748\n",
      "Recall Score:  0.9175824175824175\n",
      "F1 Score:  0.9174254317111461\n",
      "Cohen Score:  0.835323923271806\n",
      "K-Fold Accuracy Score: 89.63%\n",
      "\n",
      "Classification Report:\n",
      "               precision    recall  f1-score   support\n",
      "\n",
      "           0       0.88      0.97      0.92       180\n",
      "           1       0.96      0.87      0.91       184\n",
      "\n",
      "    accuracy                           0.92       364\n",
      "   macro avg       0.92      0.92      0.92       364\n",
      "weighted avg       0.92      0.92      0.92       364\n",
      "\n",
      "\n",
      "\n"
     ]
    },
    {
     "data": {
      "image/png": "[encoded data removed]",
      "text/plain": [
       "<Figure size 504x360 with 2 Axes>"
      ]
     },
     "metadata": {
      "needs_background": "light"
     },
     "output_type": "display_data"
    },
    {
     "name": "stdout",
     "output_type": "stream",
     "text": [
      "Classifier:  Random Forest\n",
      "\n",
      "Confusion Matrix:\n",
      " [[174   6]\n",
      " [ 24 160]]\n",
      "\n",
      "Accuracy Score:  0.9175824175824175\n",
      "Precision Score:  0.9217890543191748\n",
      "Recall Score:  0.9175824175824175\n",
      "F1 Score:  0.9174254317111461\n",
      "Cohen Score:  0.835323923271806\n",
      "K-Fold Accuracy Score: 93.76%\n",
      "\n",
      "Classification Report:\n",
      "               precision    recall  f1-score   support\n",
      "\n",
      "           0       0.88      0.97      0.92       180\n",
      "           1       0.96      0.87      0.91       184\n",
      "\n",
      "    accuracy                           0.92       364\n",
      "   macro avg       0.92      0.92      0.92       364\n",
      "weighted avg       0.92      0.92      0.92       364\n",
      "\n",
      "\n",
      "\n"
     ]
    }
   ],
   "source": [
    "import matplotlib.pyplot as plt\n",
    "import seaborn as sns\n",
    "import numpy as np\n",
    "results = run_models(X_train, y_train, X_test, y_test, models, 10)"
   ]
  },
  {
   "cell_type": "code",
   "execution_count": null,
   "id": "492c5d36",
   "metadata": {},
   "outputs": [],
   "source": []
  },
  {
   "cell_type": "code",
   "execution_count": null,
   "id": "e9fc3308",
   "metadata": {},
   "outputs": [],
   "source": []
  }
 ],
 "metadata": {
  "kernelspec": {
   "display_name": "Python 3 (ipykernel)",
   "language": "python",
   "name": "python3"
  },
  "language_info": {
   "codemirror_mode": {
    "name": "ipython",
    "version": 3
   },
   "file_extension": ".py",
   "mimetype": "text/x-python",
   "name": "python",
   "nbconvert_exporter": "python",
   "pygments_lexer": "ipython3",
   "version": "3.9.12"
  }
 },
 "nbformat": 4,
 "nbformat_minor": 5
}
